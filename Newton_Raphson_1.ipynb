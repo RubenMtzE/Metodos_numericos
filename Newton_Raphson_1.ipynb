{
  "nbformat": 4,
  "nbformat_minor": 0,
  "metadata": {
    "colab": {
      "name": "Newton_Raphson_1.ipynb",
      "provenance": [],
      "collapsed_sections": [],
      "include_colab_link": true
    },
    "kernelspec": {
      "display_name": "Python 3",
      "language": "python",
      "name": "python3"
    },
    "language_info": {
      "codemirror_mode": {
        "name": "ipython",
        "version": 3
      },
      "file_extension": ".py",
      "mimetype": "text/x-python",
      "name": "python",
      "nbconvert_exporter": "python",
      "pygments_lexer": "ipython3",
      "version": "3.8.5"
    }
  },
  "cells": [
    {
      "cell_type": "markdown",
      "metadata": {
        "id": "view-in-github",
        "colab_type": "text"
      },
      "source": [
        "<a href=\"https://colab.research.google.com/github/RubenMtzE/Metodos_numericos/blob/main/Newton_Raphson_1.ipynb\" target=\"_parent\"><img src=\"https://colab.research.google.com/assets/colab-badge.svg\" alt=\"Open In Colab\"/></a>"
      ]
    },
    {
      "cell_type": "markdown",
      "metadata": {
        "id": "gMCuu5y4qbNM"
      },
      "source": [
        "<font size=\"5\"> <div align=\"center\">Métodos númericos</div></font> <br /><br />\n",
        "<!-- \\begin{center}\n",
        "{\\large Martínez Escutia Rubén}\\\\\n",
        "Licenciatura en tecnología, Métodos númericos\n",
        "\\vspace{1.2cm}\n",
        "\\end{center} \n",
        "<br />\n",
        "<br /> -->\n",
        "\n",
        "La ecuación de estado de Beatle-Brifeman en su forma virial es:\n",
        "$$PV=RT+\\frac{\\beta}{V}+\\frac{\\gamma}{V^2}+\\frac{\\delta}{V^3}$$\\\n",
        "Donde:  <br /><br />\n",
        "P = Presión en atm \\\n",
        "T = Temperatura en Kelvin \\\n",
        "V = Volumen molar en $\\frac{L}{g\\cdot mol}$ \\\n",
        "R = Constante universal de los gases 0.08205 $\\frac{atm\\cdot L}{g\\cdot mol\\cdot K}$\\\n",
        "$\\beta = RTB_0-A_0-\\frac{Rc}{T^2}$\\\n",
        "$\\gamma=-RTB_0b+A_0a-\\frac{RB_0c}{T^2}$\\\n",
        "$\\delta=\\frac{RB_0bc}{T^2}$\\\n",
        "<!-- \\begin{center}\n",
        "\\vspace{1cm}\n",
        "\\end{center} -->\n",
        "Calcule el volumen molar V a 50 atm  y $100^{\\circ}C$ para los siguientes gases \n",
        "\n",
        "| Gas | $A_0$ | a | $B_0$ | b | $c \\times 10 ^{-4}$ |\n",
        "| --- | --- | --- | --- | --- | --- |\n",
        "| O$_2$| 1.4911 | 0.02562 | 0.04624 | 0.004208 | 4.8 | <br /><br /><br /><br />\n",
        "\n",
        "Considerando la ecuación del gas ideal \n",
        "\n",
        "$$PV=nRT$$ \\\n",
        "Despejando V <br />\n",
        "$$\\frac{V}{n}=\\frac{RT}{P}$$\n"
      ]
    },
    {
      "cell_type": "code",
      "metadata": {
        "id": "yArRfIx2o6BA"
      },
      "source": [
        "import pandas as pd"
      ],
      "execution_count": null,
      "outputs": []
    },
    {
      "cell_type": "code",
      "metadata": {
        "id": "aF7NBmz4rtyI"
      },
      "source": [
        "#Definir el valor de las variables\n",
        "P=50\n",
        "T= 100 + 273.15\n",
        "R= 0.08205\n",
        "A0=1.4911\n",
        "a=0.02562\n",
        "B0=0.04624\n",
        "b=0.004208\n",
        "c= 4.8 *10**-4 \n",
        "beta = R*T*B0-A0-((R*B0*c)/(T**2))\n",
        "gamma = -R*T*B0*b+A0*a-((R*B0*c)/(T**2))\n",
        "delta = (R*B0*b*c)/(T**2)\n",
        "fx=[]\n",
        "ii=[]"
      ],
      "execution_count": null,
      "outputs": []
    },
    {
      "cell_type": "code",
      "metadata": {
        "colab": {
          "base_uri": "https://localhost:8080/"
        },
        "id": "_K8-eruRvded",
        "outputId": "133a2656-3c2f-448e-e99a-8da0664046f6"
      },
      "source": [
        "#Evaluando la ecuación del gas ideal para conocer x0\n",
        "V= (R * T )/ P\n",
        "print(V)\n",
        "#Evaluando beta, gamma, delta\n",
        "print(\"beta = \" , beta)\n",
        "print(\"gamma = \",gamma)\n",
        "print(\"delta = \",delta)"
      ],
      "execution_count": null,
      "outputs": [
        {
          "output_type": "stream",
          "text": [
            "0.6123391499999999\n",
            "beta =  -0.07537188521307893\n",
            "gamma =  0.032244598079842715\n",
            "delta =  5.503595253241735e-14\n"
          ],
          "name": "stdout"
        }
      ]
    },
    {
      "cell_type": "markdown",
      "metadata": {
        "id": "MH7k6wFpv3lj"
      },
      "source": [
        "De la operación anterior consideraremos V como $x_0=0.6123...$"
      ]
    },
    {
      "cell_type": "markdown",
      "metadata": {
        "id": "Xjm-dlkswyFv"
      },
      "source": [
        "$$f(V)=RT+\\frac{\\beta}{V}+\\frac{\\gamma}{V^2}+\\frac{\\delta}{V^3}-PV$$\n",
        "$$f(V)=RT+\\beta V^{-1}+\\gamma V^{-2}+\\delta V^{-3}-PV$$\n",
        "Derivando\n",
        "$$f'(V)=-\\frac{\\beta}{V^2}-\\frac{2\\gamma}{V^3}-\\frac{3\\delta}{V^4}-P$$\n",
        "Calculando $\\Delta x$\n",
        "$$\\Delta x= \\frac{f(V)}{f'(V)}=\\frac{RT+\\frac{\\beta}{V}+\\frac{\\gamma}{V^2}+\\frac{\\delta}{V^3}-PV}{-\\frac{\\beta}{V^2}-\\frac{2\\gamma}{V^3}-\\frac{3\\delta}{V^4}-P}$$\n",
        "Calculando $X_0$\n",
        "$$X_0=X_0-\\frac{f(V)}{f'(V)}$$\n",
        "Para la primera iteracióón tenemos\n",
        "$$X_0=0.6123-\\frac{0.08205\\times 373.15+\\frac{-0.07537}{0.61233}+\\frac{0.03224}{0.61233^2}+\\frac{5.50359}{0.61233^3}-50\\times0.61233}{-\\frac{-0.07537}{0.61233^2}-\\frac{0.03224}{0.61233^3}-\\frac{5.50359}{0.61233^4}-50}=0.61159$$"
      ]
    },
    {
      "cell_type": "code",
      "metadata": {
        "colab": {
          "base_uri": "https://localhost:8080/",
          "height": 537
        },
        "id": "ZQ2FwZc12R_C",
        "outputId": "c42f73b8-062d-47d3-ca6d-dd5c788fad6b"
      },
      "source": [
        "#Ajustar el valor en range() para el número de iteraciones.\n",
        "for i in range(5):\n",
        "  x = V\n",
        "#Evaluar en la función f(x)\n",
        "  gx= R*T+(beta/x)+(gamma/x**2)+(delta/x**3)-P*x\n",
        "#Evaluar en la función f'(x)\n",
        "  dgx=-(beta/x**2)-(((2*gamma))/x**3)-((3*delta)/x**4)-P\n",
        "#Evaluar \\Delta x\n",
        "  Deltax = gx/dgx\n",
        "#Evaluar xi\n",
        "  V = x- Deltax\n",
        "#Evaluando en la ecuación original\n",
        "  gxn=R*T+(beta/V)+(gamma/V**2)+(delta/V**3)-P*V\n",
        "  fx.append(V)\n",
        "  ii.append(gxn)\n",
        "  table={\"f(x)\":ii,\"V\":fx}\n",
        "  print(V) \n",
        "tablesf = pd.DataFrame(table)\n",
        "tablesf"
      ],
      "execution_count": null,
      "outputs": [
        {
          "output_type": "stream",
          "text": [
            "0.6115984626169045\n",
            "0.611598466565832\n",
            "0.6115984665658322\n",
            "0.611598466565832\n",
            "0.6115984665658322\n"
          ],
          "name": "stdout"
        },
        {
          "output_type": "execute_result",
          "data": {
            "text/html": [
              "<div>\n",
              "<style scoped>\n",
              "    .dataframe tbody tr th:only-of-type {\n",
              "        vertical-align: middle;\n",
              "    }\n",
              "\n",
              "    .dataframe tbody tr th {\n",
              "        vertical-align: top;\n",
              "    }\n",
              "\n",
              "    .dataframe thead th {\n",
              "        text-align: right;\n",
              "    }\n",
              "</style>\n",
              "<table border=\"1\" class=\"dataframe\">\n",
              "  <thead>\n",
              "    <tr style=\"text-align: right;\">\n",
              "      <th></th>\n",
              "      <th>f(x)</th>\n",
              "      <th>V</th>\n",
              "    </tr>\n",
              "  </thead>\n",
              "  <tbody>\n",
              "    <tr>\n",
              "      <th>0</th>\n",
              "      <td>1.977638e-07</td>\n",
              "      <td>0.611598</td>\n",
              "    </tr>\n",
              "    <tr>\n",
              "      <th>1</th>\n",
              "      <td>3.552714e-15</td>\n",
              "      <td>0.611598</td>\n",
              "    </tr>\n",
              "    <tr>\n",
              "      <th>2</th>\n",
              "      <td>-3.552714e-15</td>\n",
              "      <td>0.611598</td>\n",
              "    </tr>\n",
              "    <tr>\n",
              "      <th>3</th>\n",
              "      <td>3.552714e-15</td>\n",
              "      <td>0.611598</td>\n",
              "    </tr>\n",
              "    <tr>\n",
              "      <th>4</th>\n",
              "      <td>-3.552714e-15</td>\n",
              "      <td>0.611598</td>\n",
              "    </tr>\n",
              "  </tbody>\n",
              "</table>\n",
              "</div>"
            ],
            "text/plain": [
              "           f(x)         V\n",
              "0  1.977638e-07  0.611598\n",
              "1  3.552714e-15  0.611598\n",
              "2 -3.552714e-15  0.611598\n",
              "3  3.552714e-15  0.611598\n",
              "4 -3.552714e-15  0.611598"
            ]
          },
          "metadata": {
            "tags": []
          },
          "execution_count": 4
        }
      ]
    },
    {
      "cell_type": "markdown",
      "metadata": {
        "id": "Fd6iOK3ymdSL"
      },
      "source": [
        "$\\therefore$ el Volumen molar V a 50 atm y 100 $^{\\circ}$C para el O$_2$es $$V=0.61159 \\frac{L}{g\\cdot mol}$$\n",
        "En la primera iteración"
      ]
    }
  ]
}